{
  "nbformat": 4,
  "nbformat_minor": 0,
  "metadata": {
    "colab": {
      "name": "GPU_optimization_example_broken.ipynb",
      "version": "0.3.2",
      "provenance": [],
      "collapsed_sections": []
    },
    "kernelspec": {
      "name": "python3",
      "display_name": "Python 3"
    },
    "accelerator": "GPU"
  },
  "cells": [
    {
      "metadata": {
        "id": "zLl9oP-RfrdI",
        "colab_type": "text"
      },
      "cell_type": "markdown",
      "source": [
        "## **Setup of the OS**\n",
        "``\n",
        "''!'' in notebook means that you are executing commands in commad shell\n",
        "\n",
        "Update all packages of debian-based distributive of the Linux OS."
      ]
    },
    {
      "metadata": {
        "id": "7mFTn3l7fOLn",
        "colab_type": "code",
        "outputId": "d7895317-a3d7-4042-9d91-21254092cc07",
        "colab": {
          "base_uri": "https://localhost:8080/",
          "height": 104
        }
      },
      "cell_type": "code",
      "source": [
        "! lsb_release -a"
      ],
      "execution_count": 0,
      "outputs": [
        {
          "output_type": "stream",
          "text": [
            "No LSB modules are available.\n",
            "Distributor ID:\tUbuntu\n",
            "Description:\tUbuntu 18.04.2 LTS\n",
            "Release:\t18.04\n",
            "Codename:\tbionic\n"
          ],
          "name": "stdout"
        }
      ]
    },
    {
      "metadata": {
        "id": "OWOrJHDJaiYF",
        "colab_type": "code",
        "outputId": "2ce5302d-8bdc-4a96-aed1-b8e48452316d",
        "colab": {
          "base_uri": "https://localhost:8080/",
          "height": 34
        }
      },
      "cell_type": "code",
      "source": [
        "!apt update -qq;"
      ],
      "execution_count": 0,
      "outputs": [
        {
          "output_type": "stream",
          "text": [
            "38 packages can be upgraded. Run 'apt list --upgradable' to see them.\n"
          ],
          "name": "stdout"
        }
      ]
    },
    {
      "metadata": {
        "id": "VCA-ZzUJhSLv",
        "colab_type": "code",
        "outputId": "18ff907d-d71d-449b-cc90-c0e8ec1ef8e1",
        "colab": {
          "base_uri": "https://localhost:8080/",
          "height": 694
        }
      },
      "cell_type": "code",
      "source": [
        "! apt list --upgradable"
      ],
      "execution_count": 0,
      "outputs": [
        {
          "output_type": "stream",
          "text": [
            "\rListing... 0%\r\rListing... 0%\r\rListing... 0%\r\rListing... Done\r\n",
            "\u001b[32mdefault-jre\u001b[0m/bionic-updates,bionic-security 2:1.11-68ubuntu1~18.04.1 amd64 [upgradable from: 2:1.10-63ubuntu1~02]\n",
            "\u001b[32mdefault-jre-headless\u001b[0m/bionic-updates,bionic-security 2:1.11-68ubuntu1~18.04.1 amd64 [upgradable from: 2:1.10-63ubuntu1~02]\n",
            "\u001b[32mdistro-info-data\u001b[0m/bionic-updates 0.37ubuntu0.4 all [upgradable from: 0.37ubuntu0.3]\n",
            "\u001b[32mjava-common\u001b[0m/bionic-updates,bionic-security 0.68ubuntu1~18.04.1 all [upgradable from: 0.63ubuntu1~02]\n",
            "\u001b[32mkeyboard-configuration\u001b[0m/bionic-updates 1.178ubuntu2.8 all [upgradable from: 1.178ubuntu2.7]\n",
            "\u001b[32mlibcudnn7\u001b[0m/unknown 7.5.0.56-1+cuda10.1 amd64 [upgradable from: 7.5.0.56-1+cuda10.0]\n",
            "\u001b[32mlibcudnn7-dev\u001b[0m/unknown 7.5.0.56-1+cuda10.1 amd64 [upgradable from: 7.5.0.56-1+cuda10.0]\n",
            "\u001b[32mlibidn11\u001b[0m/bionic-updates 1.33-2.1ubuntu1.2 amd64 [upgradable from: 1.33-2.1ubuntu1.1]\n",
            "\u001b[32mlibnccl-dev\u001b[0m/unknown 2.4.2-1+cuda10.1 amd64 [upgradable from: 2.4.2-1+cuda10.0]\n",
            "\u001b[32mlibnccl2\u001b[0m/unknown 2.4.2-1+cuda10.1 amd64 [upgradable from: 2.4.2-1+cuda10.0]\n",
            "\u001b[32mlibpam-systemd\u001b[0m/bionic-updates 237-3ubuntu10.20 amd64 [upgradable from: 237-3ubuntu10.17]\n",
            "\u001b[32mlibseccomp2\u001b[0m/bionic-updates 2.3.1-2.1ubuntu4.1 amd64 [upgradable from: 2.3.1-2.1ubuntu4]\n",
            "\u001b[32mlibsystemd0\u001b[0m/bionic-updates 237-3ubuntu10.20 amd64 [upgradable from: 237-3ubuntu10.17]\n",
            "\u001b[32mlibudev1\u001b[0m/bionic-updates 237-3ubuntu10.20 amd64 [upgradable from: 237-3ubuntu10.17]\n",
            "\u001b[32mlibunistring2\u001b[0m/bionic-updates 0.9.9-0ubuntu2 amd64 [upgradable from: 0.9.9-0ubuntu1]\n",
            "\u001b[32mlibxslt1.1\u001b[0m/bionic-updates,bionic-security 1.1.29-5ubuntu0.1 amd64 [upgradable from: 1.1.29-5]\n",
            "\u001b[32mopenjdk-11-jre\u001b[0m/bionic-updates,bionic-security 11.0.2+9-3ubuntu1~18.04.3 amd64 [upgradable from: 10.0.2+13-1ubuntu0.18.04.4]\n",
            "\u001b[32mopenjdk-11-jre-headless\u001b[0m/bionic-updates,bionic-security 11.0.2+9-3ubuntu1~18.04.3 amd64 [upgradable from: 10.0.2+13-1ubuntu0.18.04.4]\n",
            "\u001b[32mr-cran-backports\u001b[0m/bionic 1.1.4-1cran1ppabionic0 amd64 [upgradable from: 1.1.3-1cran1ppabionic0]\n",
            "\u001b[32mr-cran-broom\u001b[0m/bionic 0.5.2-1cran1ppabionic0 all [upgradable from: 0.5.1-1cran1ppabionic0]\n",
            "\u001b[32mr-cran-cluster\u001b[0m/bionic-cran35 2.0.8-1bionic0 amd64 [upgradable from: 2.0.7-1-1cranBionic0]\n",
            "\u001b[32mr-cran-devtools\u001b[0m/bionic 2.0.2-1cran1ppabionic0 all [upgradable from: 2.0.1-1cran1ppabionic0]\n",
            "\u001b[32mr-cran-gdtools\u001b[0m/bionic 0.1.8-1cran1ppabionic0 amd64 [upgradable from: 0.1.7-3cran1ppa0bionic0]\n",
            "\u001b[32mr-cran-ggplot2\u001b[0m/bionic 3.1.1-1cran1ppabionic0 all [upgradable from: 3.1.0-1cran1ppabionic0]\n",
            "\u001b[32mr-cran-mass\u001b[0m/bionic 7.3-51.3-1cran1ppabionic0 amd64 [upgradable from: 7.3-51.1-1cran1ppabionic0]\n",
            "\u001b[32mr-cran-nlme\u001b[0m/bionic 3.1.139-1ppabionic0 amd64 [upgradable from: 3.1.137-1cranBionic0]\n",
            "\u001b[32mr-cran-remotes\u001b[0m/bionic 2.0.4-1cran1ppabionic0 all [upgradable from: 2.0.2-1cran1ppabionic0]\n",
            "\u001b[32mr-cran-rlang\u001b[0m/bionic 0.3.4-1cran1ppabionic0 amd64 [upgradable from: 0.3.3-1cran1ppabionic0]\n",
            "\u001b[32mr-cran-rpart\u001b[0m/bionic 4.1-15-1cran1ppabionic0 amd64 [upgradable from: 4.1-13-1cranBionic0]\n",
            "\u001b[32mr-cran-rvest\u001b[0m/bionic 0.3.3-1cran1ppabionic0 all [upgradable from: 0.3.2-3cran2ppa0bionic0]\n",
            "\u001b[32mr-cran-survival\u001b[0m/bionic 2.44-1.1-1cran1ppabionic0 amd64 [upgradable from: 2.43-3-1cran1ppabionic0]\n",
            "\u001b[32mr-cran-tinytex\u001b[0m/bionic 0.12-1cran1ppabionic0 all [upgradable from: 0.11-1cran1ppabionic0]\n",
            "\u001b[32mr-cran-usethis\u001b[0m/bionic 1.5.0-1cran1ppabionic0 all [upgradable from: 1.4.0-1cran1ppabionic0]\n",
            "\u001b[32mr-cran-xfun\u001b[0m/bionic 0.6-1cran1ppabionic0 all [upgradable from: 0.5-1cran1ppabionic0]\n",
            "\u001b[32msystemd\u001b[0m/bionic-updates 237-3ubuntu10.20 amd64 [upgradable from: 237-3ubuntu10.17]\n",
            "\u001b[32msystemd-sysv\u001b[0m/bionic-updates 237-3ubuntu10.20 amd64 [upgradable from: 237-3ubuntu10.17]\n",
            "\u001b[32mudev\u001b[0m/bionic-updates 237-3ubuntu10.20 amd64 [upgradable from: 237-3ubuntu10.17]\n",
            "\u001b[32mwget\u001b[0m/bionic-updates,bionic-security 1.19.4-1ubuntu2.2 amd64 [upgradable from: 1.19.4-1ubuntu2.1]\n"
          ],
          "name": "stdout"
        }
      ]
    },
    {
      "metadata": {
        "id": "r-PVa1p_fpb-",
        "colab_type": "text"
      },
      "cell_type": "markdown",
      "source": [
        "Download package with repository parameters "
      ]
    },
    {
      "metadata": {
        "id": "DDGMeWNyg5Oz",
        "colab_type": "code",
        "outputId": "45f922bd-4e1e-4ad9-feee-7378b80203b4",
        "colab": {
          "base_uri": "https://localhost:8080/",
          "height": 315
        }
      },
      "cell_type": "code",
      "source": [
        "!wget https://developer.nvidia.com/compute/cuda/8.0/Prod2/local_installers/cuda-repo-ubuntu1604-8-0-local-ga2_8.0.61-1_amd64-deb;"
      ],
      "execution_count": 0,
      "outputs": [
        {
          "output_type": "stream",
          "text": [
            "--2019-04-20 07:22:46--  https://developer.nvidia.com/compute/cuda/8.0/Prod2/local_installers/cuda-repo-ubuntu1604-8-0-local-ga2_8.0.61-1_amd64-deb\n",
            "Resolving developer.nvidia.com (developer.nvidia.com)... 192.229.162.216\n",
            "Connecting to developer.nvidia.com (developer.nvidia.com)|192.229.162.216|:443... connected.\n",
            "HTTP request sent, awaiting response... 302 Found\n",
            "Location: https://developer.download.nvidia.com/compute/cuda/8.0/secure/Prod2/local_installers/cuda-repo-ubuntu1604-8-0-local-ga2_8.0.61-1_amd64.deb?BXIZ45BPkn4Ov0cGUoVbnx8Nmw2kqFtcxnbmqEdJ4CBvN6rvAGa01KwdILVFPVdf3QhlLWf0K4760di8rcbwN72mqX7d9oNOR8leaMJ-wQhzcCUrxa07uFG--E9xg-pkVvquNdBoRCYVmImwaH6zfM8T0jtdP3NQ53VvQZuXdv4u0qHScvcxVxiEd_eSkxhdoTK8f10fIrC6aCfd5o5KmQJp6g [following]\n",
            "--2019-04-20 07:22:47--  https://developer.download.nvidia.com/compute/cuda/8.0/secure/Prod2/local_installers/cuda-repo-ubuntu1604-8-0-local-ga2_8.0.61-1_amd64.deb?BXIZ45BPkn4Ov0cGUoVbnx8Nmw2kqFtcxnbmqEdJ4CBvN6rvAGa01KwdILVFPVdf3QhlLWf0K4760di8rcbwN72mqX7d9oNOR8leaMJ-wQhzcCUrxa07uFG--E9xg-pkVvquNdBoRCYVmImwaH6zfM8T0jtdP3NQ53VvQZuXdv4u0qHScvcxVxiEd_eSkxhdoTK8f10fIrC6aCfd5o5KmQJp6g\n",
            "Resolving developer.download.nvidia.com (developer.download.nvidia.com)... 192.229.211.70, 2606:2800:21f:3aa:dcf:37b:1ed6:1fb\n",
            "Connecting to developer.download.nvidia.com (developer.download.nvidia.com)|192.229.211.70|:443... connected.\n",
            "HTTP request sent, awaiting response... 200 OK\n",
            "Length: 1913589814 (1.8G) [application/x-deb]\n",
            "Saving to: ‘cuda-repo-ubuntu1604-8-0-local-ga2_8.0.61-1_amd64-deb.1’\n",
            "\n",
            "cuda-repo-ubuntu160 100%[===================>]   1.78G   134MB/s    in 12s     \n",
            "\n",
            "2019-04-20 07:22:59 (148 MB/s) - ‘cuda-repo-ubuntu1604-8-0-local-ga2_8.0.61-1_amd64-deb.1’ saved [1913589814/1913589814]\n",
            "\n"
          ],
          "name": "stdout"
        }
      ]
    },
    {
      "metadata": {
        "id": "uHRTu5w5iOjC",
        "colab_type": "text"
      },
      "cell_type": "markdown",
      "source": [
        "Installing CUDA repo details"
      ]
    },
    {
      "metadata": {
        "id": "237icJriiEEL",
        "colab_type": "code",
        "outputId": "eee041cf-b257-429d-ae30-59605b5c30b1",
        "colab": {
          "base_uri": "https://localhost:8080/",
          "height": 191
        }
      },
      "cell_type": "code",
      "source": [
        "!dpkg -i cuda-repo-ubuntu1604-8-0-local-ga2_8.0.61-1_amd64-deb;"
      ],
      "execution_count": 0,
      "outputs": [
        {
          "output_type": "stream",
          "text": [
            "(Reading database ... \r(Reading database ... 5%\r(Reading database ... 10%\r(Reading database ... 15%\r(Reading database ... 20%\r(Reading database ... 25%\r(Reading database ... 30%\r(Reading database ... 35%\r(Reading database ... 40%\r(Reading database ... 45%\r(Reading database ... 50%\r(Reading database ... 55%\r(Reading database ... 60%\r(Reading database ... 65%\r(Reading database ... 70%\r(Reading database ... 75%\r(Reading database ... 80%\r(Reading database ... 85%\r(Reading database ... 90%\r(Reading database ... 95%\r(Reading database ... 100%\r(Reading database ... 132398 files and directories currently installed.)\n",
            "Preparing to unpack cuda-repo-ubuntu1604-8-0-local-ga2_8.0.61-1_amd64-deb ...\n",
            "Unpacking cuda-repo-ubuntu1604-8-0-local-ga2 (8.0.61-1) over (8.0.61-1) ...\n",
            "Setting up cuda-repo-ubuntu1604-8-0-local-ga2 (8.0.61-1) ...\n",
            "Warning: The postinst maintainerscript of the package cuda-repo-ubuntu1604-8-0-local-ga2\n",
            "Warning: seems to use apt-key (provided by apt) without depending on gnupg or gnupg2.\n",
            "Warning: This will BREAK in the future and should be fixed by the package maintainer(s).\n",
            "Note: Check first if apt-key functionality is needed at all - it probably isn't!\n",
            "Warning: apt-key should not be used in scripts (called from postinst maintainerscript of the package cuda-repo-ubuntu1604-8-0-local-ga2)\n",
            "OK\n"
          ],
          "name": "stdout"
        }
      ]
    },
    {
      "metadata": {
        "id": "g1YDAmT3iZJT",
        "colab_type": "text"
      },
      "cell_type": "markdown",
      "source": [
        "Adding public key to access repository"
      ]
    },
    {
      "metadata": {
        "id": "e446iPSkijLJ",
        "colab_type": "code",
        "outputId": "e4e60b98-820b-4586-f1de-8780288e4074",
        "colab": {
          "base_uri": "https://localhost:8080/",
          "height": 34
        }
      },
      "cell_type": "code",
      "source": [
        "!apt-key add /var/cuda-repo-8-0-local-ga2/7fa2af80.pub;"
      ],
      "execution_count": 0,
      "outputs": [
        {
          "output_type": "stream",
          "text": [
            "OK\n"
          ],
          "name": "stdout"
        }
      ]
    },
    {
      "metadata": {
        "id": "YN4z4TksiuuN",
        "colab_type": "text"
      },
      "cell_type": "markdown",
      "source": [
        "Update packages again, with new added repository"
      ]
    },
    {
      "metadata": {
        "id": "EWj-8posi2qP",
        "colab_type": "code",
        "colab": {}
      },
      "cell_type": "code",
      "source": [
        "!apt-get update -qq;"
      ],
      "execution_count": 0,
      "outputs": []
    },
    {
      "metadata": {
        "id": "iRK0Putwk1xo",
        "colab_type": "text"
      },
      "cell_type": "markdown",
      "source": [
        "Now check what versions of CUDA packages do we have.\n",
        "We search for **cuda-10-0 **"
      ]
    },
    {
      "metadata": {
        "id": "J5iJMpgXi7Hu",
        "colab_type": "text"
      },
      "cell_type": "markdown",
      "source": [
        "Install packages for CUDA programming with C++"
      ]
    },
    {
      "metadata": {
        "id": "VovJ51TCjB09",
        "colab_type": "code",
        "outputId": "c30c77b6-d312-41f4-eb9b-ce84cdd77cb7",
        "colab": {
          "base_uri": "https://localhost:8080/",
          "height": 3803
        }
      },
      "cell_type": "code",
      "source": [
        "!apt-get install cuda gcc-5 g++-5 -y -qq;"
      ],
      "execution_count": 0,
      "outputs": [
        {
          "output_type": "stream",
          "text": [
            "Extracting templates from packages: 100%\n",
            "Selecting previously unselected package cuda-license-10-1.\n",
            "(Reading database ... 132398 files and directories currently installed.)\n",
            "Preparing to unpack .../00-cuda-license-10-1_10.1.105-1_amd64.deb ...\n",
            "Unpacking cuda-license-10-1 (10.1.105-1) ...\n",
            "Selecting previously unselected package cuda-misc-headers-10-1.\n",
            "Preparing to unpack .../01-cuda-misc-headers-10-1_10.1.105-1_amd64.deb ...\n",
            "Unpacking cuda-misc-headers-10-1 (10.1.105-1) ...\n",
            "Selecting previously unselected package cuda-nvcc-10-1.\n",
            "Preparing to unpack .../02-cuda-nvcc-10-1_10.1.105-1_amd64.deb ...\n",
            "Unpacking cuda-nvcc-10-1 (10.1.105-1) ...\n",
            "Selecting previously unselected package cuda-cuobjdump-10-1.\n",
            "Preparing to unpack .../03-cuda-cuobjdump-10-1_10.1.105-1_amd64.deb ...\n",
            "Unpacking cuda-cuobjdump-10-1 (10.1.105-1) ...\n",
            "Selecting previously unselected package cuda-nvprune-10-1.\n",
            "Preparing to unpack .../04-cuda-nvprune-10-1_10.1.105-1_amd64.deb ...\n",
            "Unpacking cuda-nvprune-10-1 (10.1.105-1) ...\n",
            "Selecting previously unselected package cuda-compiler-10-1.\n",
            "Preparing to unpack .../05-cuda-compiler-10-1_10.1.105-1_amd64.deb ...\n",
            "Unpacking cuda-compiler-10-1 (10.1.105-1) ...\n",
            "Selecting previously unselected package cuda-nvdisasm-10-1.\n",
            "Preparing to unpack .../06-cuda-nvdisasm-10-1_10.1.105-1_amd64.deb ...\n",
            "Unpacking cuda-nvdisasm-10-1 (10.1.105-1) ...\n",
            "Selecting previously unselected package cuda-gdb-10-1.\n",
            "Preparing to unpack .../07-cuda-gdb-10-1_10.1.105-1_amd64.deb ...\n",
            "Unpacking cuda-gdb-10-1 (10.1.105-1) ...\n",
            "Selecting previously unselected package cuda-nvprof-10-1.\n",
            "Preparing to unpack .../08-cuda-nvprof-10-1_10.1.105-1_amd64.deb ...\n",
            "Unpacking cuda-nvprof-10-1 (10.1.105-1) ...\n",
            "Selecting previously unselected package cuda-sanitizer-api-10-1.\n",
            "Preparing to unpack .../09-cuda-sanitizer-api-10-1_10.1.105-1_amd64.deb ...\n",
            "Unpacking cuda-sanitizer-api-10-1 (10.1.105-1) ...\n",
            "Selecting previously unselected package cuda-memcheck-10-1.\n",
            "Preparing to unpack .../10-cuda-memcheck-10-1_10.1.105-1_amd64.deb ...\n",
            "Unpacking cuda-memcheck-10-1 (10.1.105-1) ...\n",
            "Selecting previously unselected package cuda-cudart-10-1.\n",
            "Preparing to unpack .../11-cuda-cudart-10-1_10.1.105-1_amd64.deb ...\n",
            "Unpacking cuda-cudart-10-1 (10.1.105-1) ...\n",
            "Selecting previously unselected package cuda-driver-dev-10-1.\n",
            "Preparing to unpack .../12-cuda-driver-dev-10-1_10.1.105-1_amd64.deb ...\n",
            "Unpacking cuda-driver-dev-10-1 (10.1.105-1) ...\n",
            "Selecting previously unselected package cuda-cudart-dev-10-1.\n",
            "Preparing to unpack .../13-cuda-cudart-dev-10-1_10.1.105-1_amd64.deb ...\n",
            "Unpacking cuda-cudart-dev-10-1 (10.1.105-1) ...\n",
            "Selecting previously unselected package cuda-cupti-10-1.\n",
            "Preparing to unpack .../14-cuda-cupti-10-1_10.1.105-1_amd64.deb ...\n",
            "Unpacking cuda-cupti-10-1 (10.1.105-1) ...\n",
            "Selecting previously unselected package cuda-gpu-library-advisor-10-1.\n",
            "Preparing to unpack .../15-cuda-gpu-library-advisor-10-1_10.1.105-1_amd64.deb ...\n",
            "Unpacking cuda-gpu-library-advisor-10-1 (10.1.105-1) ...\n",
            "Selecting previously unselected package cuda-nvtx-10-1.\n",
            "Preparing to unpack .../16-cuda-nvtx-10-1_10.1.105-1_amd64.deb ...\n",
            "Unpacking cuda-nvtx-10-1 (10.1.105-1) ...\n",
            "Selecting previously unselected package cuda-command-line-tools-10-1.\n",
            "Preparing to unpack .../17-cuda-command-line-tools-10-1_10.1.105-1_amd64.deb ...\n",
            "Unpacking cuda-command-line-tools-10-1 (10.1.105-1) ...\n",
            "Selecting previously unselected package cuda-nsight-10-1.\n",
            "Preparing to unpack .../18-cuda-nsight-10-1_10.1.105-1_amd64.deb ...\n",
            "Unpacking cuda-nsight-10-1 (10.1.105-1) ...\n",
            "Selecting previously unselected package cuda-nvvp-10-1.\n",
            "Preparing to unpack .../19-cuda-nvvp-10-1_10.1.105-1_amd64.deb ...\n",
            "Unpacking cuda-nvvp-10-1 (10.1.105-1) ...\n",
            "Selecting previously unselected package cuda-nvrtc-10-1.\n",
            "Preparing to unpack .../20-cuda-nvrtc-10-1_10.1.105-1_amd64.deb ...\n",
            "Unpacking cuda-nvrtc-10-1 (10.1.105-1) ...\n",
            "Selecting previously unselected package cuda-nvrtc-dev-10-1.\n",
            "Preparing to unpack .../21-cuda-nvrtc-dev-10-1_10.1.105-1_amd64.deb ...\n",
            "Unpacking cuda-nvrtc-dev-10-1 (10.1.105-1) ...\n",
            "Selecting previously unselected package cuda-cusolver-10-1.\n",
            "Preparing to unpack .../22-cuda-cusolver-10-1_10.1.105-1_amd64.deb ...\n",
            "Unpacking cuda-cusolver-10-1 (10.1.105-1) ...\n",
            "Selecting previously unselected package cuda-cusolver-dev-10-1.\n",
            "Preparing to unpack .../23-cuda-cusolver-dev-10-1_10.1.105-1_amd64.deb ...\n",
            "Unpacking cuda-cusolver-dev-10-1 (10.1.105-1) ...\n",
            "Selecting previously unselected package libcublas10.\n",
            "Preparing to unpack .../24-libcublas10_10.1.0.105-1_amd64.deb ...\n",
            "Unpacking libcublas10 (10.1.0.105-1) ...\n",
            "Selecting previously unselected package libcublas-dev.\n",
            "Preparing to unpack .../25-libcublas-dev_10.1.0.105-1_amd64.deb ...\n",
            "Unpacking libcublas-dev (10.1.0.105-1) ...\n",
            "Selecting previously unselected package cuda-cufft-10-1.\n",
            "Preparing to unpack .../26-cuda-cufft-10-1_10.1.105-1_amd64.deb ...\n",
            "Unpacking cuda-cufft-10-1 (10.1.105-1) ...\n",
            "Selecting previously unselected package cuda-cufft-dev-10-1.\n",
            "Preparing to unpack .../27-cuda-cufft-dev-10-1_10.1.105-1_amd64.deb ...\n",
            "Unpacking cuda-cufft-dev-10-1 (10.1.105-1) ...\n",
            "Selecting previously unselected package cuda-curand-10-1.\n",
            "Preparing to unpack .../28-cuda-curand-10-1_10.1.105-1_amd64.deb ...\n",
            "Unpacking cuda-curand-10-1 (10.1.105-1) ...\n",
            "Selecting previously unselected package cuda-curand-dev-10-1.\n",
            "Preparing to unpack .../29-cuda-curand-dev-10-1_10.1.105-1_amd64.deb ...\n",
            "Unpacking cuda-curand-dev-10-1 (10.1.105-1) ...\n",
            "Selecting previously unselected package cuda-cusparse-10-1.\n",
            "Preparing to unpack .../30-cuda-cusparse-10-1_10.1.105-1_amd64.deb ...\n",
            "Unpacking cuda-cusparse-10-1 (10.1.105-1) ...\n",
            "Selecting previously unselected package cuda-cusparse-dev-10-1.\n",
            "Preparing to unpack .../31-cuda-cusparse-dev-10-1_10.1.105-1_amd64.deb ...\n",
            "Unpacking cuda-cusparse-dev-10-1 (10.1.105-1) ...\n",
            "Selecting previously unselected package cuda-npp-10-1.\n",
            "Preparing to unpack .../32-cuda-npp-10-1_10.1.105-1_amd64.deb ...\n",
            "Unpacking cuda-npp-10-1 (10.1.105-1) ...\n",
            "Selecting previously unselected package cuda-npp-dev-10-1.\n",
            "Preparing to unpack .../33-cuda-npp-dev-10-1_10.1.105-1_amd64.deb ...\n",
            "Unpacking cuda-npp-dev-10-1 (10.1.105-1) ...\n",
            "Selecting previously unselected package cuda-nvml-dev-10-1.\n",
            "Preparing to unpack .../34-cuda-nvml-dev-10-1_10.1.105-1_amd64.deb ...\n",
            "Unpacking cuda-nvml-dev-10-1 (10.1.105-1) ...\n",
            "Selecting previously unselected package cuda-nvjpeg-10-1.\n",
            "Preparing to unpack .../35-cuda-nvjpeg-10-1_10.1.105-1_amd64.deb ...\n",
            "Unpacking cuda-nvjpeg-10-1 (10.1.105-1) ...\n",
            "Selecting previously unselected package cuda-nvjpeg-dev-10-1.\n",
            "Preparing to unpack .../36-cuda-nvjpeg-dev-10-1_10.1.105-1_amd64.deb ...\n",
            "Unpacking cuda-nvjpeg-dev-10-1 (10.1.105-1) ...\n",
            "Selecting previously unselected package cuda-nsight-compute-10-1.\n",
            "Preparing to unpack .../37-cuda-nsight-compute-10-1_10.1.105-1_amd64.deb ...\n",
            "Unpacking cuda-nsight-compute-10-1 (10.1.105-1) ...\n",
            "Selecting previously unselected package cuda-nsight-systems-10-1.\n",
            "Preparing to unpack .../38-cuda-nsight-systems-10-1_10.1.105-1_amd64.deb ...\n",
            "Unpacking cuda-nsight-systems-10-1 (10.1.105-1) ...\n",
            "Selecting previously unselected package cuda-nvgraph-10-1.\n",
            "Preparing to unpack .../39-cuda-nvgraph-10-1_10.1.105-1_amd64.deb ...\n",
            "Unpacking cuda-nvgraph-10-1 (10.1.105-1) ...\n",
            "Selecting previously unselected package cuda-nvgraph-dev-10-1.\n",
            "Preparing to unpack .../40-cuda-nvgraph-dev-10-1_10.1.105-1_amd64.deb ...\n",
            "Unpacking cuda-nvgraph-dev-10-1 (10.1.105-1) ...\n",
            "Selecting previously unselected package cuda-visual-tools-10-1.\n",
            "Preparing to unpack .../41-cuda-visual-tools-10-1_10.1.105-1_amd64.deb ...\n",
            "Unpacking cuda-visual-tools-10-1 (10.1.105-1) ...\n",
            "Selecting previously unselected package cuda-tools-10-1.\n",
            "Preparing to unpack .../42-cuda-tools-10-1_10.1.105-1_amd64.deb ...\n",
            "Unpacking cuda-tools-10-1 (10.1.105-1) ...\n",
            "Selecting previously unselected package cuda-samples-10-1.\n",
            "Preparing to unpack .../43-cuda-samples-10-1_10.1.105-1_amd64.deb ...\n",
            "Unpacking cuda-samples-10-1 (10.1.105-1) ...\n",
            "Selecting previously unselected package cuda-documentation-10-1.\n",
            "Preparing to unpack .../44-cuda-documentation-10-1_10.1.105-1_amd64.deb ...\n",
            "Unpacking cuda-documentation-10-1 (10.1.105-1) ...\n",
            "Selecting previously unselected package cuda-libraries-dev-10-1.\n",
            "Preparing to unpack .../45-cuda-libraries-dev-10-1_10.1.105-1_amd64.deb ...\n",
            "Unpacking cuda-libraries-dev-10-1 (10.1.105-1) ...\n",
            "Selecting previously unselected package cuda-toolkit-10-1.\n",
            "Preparing to unpack .../46-cuda-toolkit-10-1_10.1.105-1_amd64.deb ...\n",
            "Unpacking cuda-toolkit-10-1 (10.1.105-1) ...\n",
            "Selecting previously unselected package cuda-libraries-10-1.\n",
            "Preparing to unpack .../47-cuda-libraries-10-1_10.1.105-1_amd64.deb ...\n",
            "Unpacking cuda-libraries-10-1 (10.1.105-1) ...\n",
            "Selecting previously unselected package cuda-runtime-10-1.\n",
            "Preparing to unpack .../48-cuda-runtime-10-1_10.1.105-1_amd64.deb ...\n",
            "Unpacking cuda-runtime-10-1 (10.1.105-1) ...\n",
            "Selecting previously unselected package cuda-demo-suite-10-1.\n",
            "Preparing to unpack .../49-cuda-demo-suite-10-1_10.1.105-1_amd64.deb ...\n",
            "Unpacking cuda-demo-suite-10-1 (10.1.105-1) ...\n",
            "Selecting previously unselected package cuda-10-1.\n",
            "Preparing to unpack .../50-cuda-10-1_10.1.105-1_amd64.deb ...\n",
            "Unpacking cuda-10-1 (10.1.105-1) ...\n",
            "Selecting previously unselected package cuda.\n",
            "Preparing to unpack .../51-cuda_10.1.105-1_amd64.deb ...\n",
            "Unpacking cuda (10.1.105-1) ...\n",
            "Setting up cuda-license-10-1 (10.1.105-1) ...\n",
            "*** LICENSE AGREEMENT ***\n",
            "By using this software you agree to fully comply with the terms and \n",
            "conditions of the EULA (End User License Agreement). The EULA is located\n",
            "at /usr/local/cuda-10.1/doc/EULA.txt. The EULA can also be found at\n",
            "http://docs.nvidia.com/cuda/eula/index.html. If you do not agree to the\n",
            "terms and conditions of the EULA, do not use the software.\n",
            "\n",
            "Setting up cuda-cusparse-10-1 (10.1.105-1) ...\n",
            "Setting up cuda-nvjpeg-10-1 (10.1.105-1) ...\n",
            "Setting up cuda-nsight-10-1 (10.1.105-1) ...\n",
            "Setting up cuda-nvdisasm-10-1 (10.1.105-1) ...\n",
            "Setting up cuda-nvml-dev-10-1 (10.1.105-1) ...\n",
            "Setting up cuda-sanitizer-api-10-1 (10.1.105-1) ...\n",
            "Setting up cuda-nvjpeg-dev-10-1 (10.1.105-1) ...\n",
            "Setting up cuda-cufft-10-1 (10.1.105-1) ...\n",
            "Setting up cuda-nvprof-10-1 (10.1.105-1) ...\n",
            "Setting up cuda-nvrtc-10-1 (10.1.105-1) ...\n",
            "Setting up libcublas10 (10.1.0.105-1) ...\n",
            "Setting up libcublas-dev (10.1.0.105-1) ...\n",
            "Setting up cuda-npp-10-1 (10.1.105-1) ...\n",
            "Setting up cuda-cufft-dev-10-1 (10.1.105-1) ...\n",
            "Setting up cuda-nvvp-10-1 (10.1.105-1) ...\n",
            "Setting up cuda-driver-dev-10-1 (10.1.105-1) ...\n",
            "Setting up cuda-cuobjdump-10-1 (10.1.105-1) ...\n",
            "Setting up cuda-nsight-systems-10-1 (10.1.105-1) ...\n",
            "Setting up cuda-gdb-10-1 (10.1.105-1) ...\n",
            "Setting up cuda-nsight-compute-10-1 (10.1.105-1) ...\n",
            "Setting up cuda-cudart-10-1 (10.1.105-1) ...\n",
            "Setting up cuda-npp-dev-10-1 (10.1.105-1) ...\n",
            "Setting up cuda-cusolver-10-1 (10.1.105-1) ...\n",
            "Setting up cuda-misc-headers-10-1 (10.1.105-1) ...\n",
            "Setting up cuda-nvtx-10-1 (10.1.105-1) ...\n",
            "Setting up cuda-curand-10-1 (10.1.105-1) ...\n",
            "Setting up cuda-cusparse-dev-10-1 (10.1.105-1) ...\n",
            "Setting up cuda-gpu-library-advisor-10-1 (10.1.105-1) ...\n",
            "Setting up cuda-nvgraph-10-1 (10.1.105-1) ...\n",
            "Setting up cuda-nvprune-10-1 (10.1.105-1) ...\n",
            "Setting up cuda-memcheck-10-1 (10.1.105-1) ...\n",
            "Setting up cuda-cudart-dev-10-1 (10.1.105-1) ...\n",
            "Setting up cuda-nvrtc-dev-10-1 (10.1.105-1) ...\n",
            "Setting up cuda-curand-dev-10-1 (10.1.105-1) ...\n",
            "Setting up cuda-cusolver-dev-10-1 (10.1.105-1) ...\n",
            "Setting up cuda-nvgraph-dev-10-1 (10.1.105-1) ...\n",
            "Setting up cuda-libraries-10-1 (10.1.105-1) ...\n",
            "Setting up cuda-nvcc-10-1 (10.1.105-1) ...\n",
            "Setting up cuda-runtime-10-1 (10.1.105-1) ...\n",
            "Setting up cuda-compiler-10-1 (10.1.105-1) ...\n",
            "Setting up cuda-demo-suite-10-1 (10.1.105-1) ...\n",
            "Setting up cuda-visual-tools-10-1 (10.1.105-1) ...\n",
            "Setting up cuda-libraries-dev-10-1 (10.1.105-1) ...\n",
            "Setting up cuda-samples-10-1 (10.1.105-1) ...\n",
            "Setting up cuda-cupti-10-1 (10.1.105-1) ...\n",
            "Setting up cuda-documentation-10-1 (10.1.105-1) ...\n",
            "Setting up cuda-command-line-tools-10-1 (10.1.105-1) ...\n",
            "Setting up cuda-tools-10-1 (10.1.105-1) ...\n",
            "Setting up cuda-toolkit-10-1 (10.1.105-1) ...\n",
            "Setting up cuda-10-1 (10.1.105-1) ...\n",
            "Setting up cuda (10.1.105-1) ...\n",
            "Processing triggers for libc-bin (2.27-3ubuntu1) ...\n"
          ],
          "name": "stdout"
        }
      ]
    },
    {
      "metadata": {
        "id": "6kk8rplbk0jS",
        "colab_type": "text"
      },
      "cell_type": "markdown",
      "source": [
        "Create symbolic links  for compiler files"
      ]
    },
    {
      "metadata": {
        "id": "TpWdZVLolBdj",
        "colab_type": "code",
        "colab": {}
      },
      "cell_type": "code",
      "source": [
        "!ln -s /usr/bin/gcc-5 /usr/local/cuda/bin/gcc;\n",
        "!ln -s /usr/bin/g++-5 /usr/local/cuda/bin/g++;"
      ],
      "execution_count": 0,
      "outputs": []
    },
    {
      "metadata": {
        "id": "r_UMlVN1lHWB",
        "colab_type": "text"
      },
      "cell_type": "markdown",
      "source": [
        "Check is NVCC up and running:\n",
        "\n",
        "\n"
      ]
    },
    {
      "metadata": {
        "id": "rORu2yChldl6",
        "colab_type": "code",
        "outputId": "0c321c78-0381-4ba7-a499-02ed3d1c224d",
        "colab": {
          "base_uri": "https://localhost:8080/",
          "height": 86
        }
      },
      "cell_type": "code",
      "source": [
        "!/usr/local/cuda/bin/nvcc --version"
      ],
      "execution_count": 0,
      "outputs": [
        {
          "output_type": "stream",
          "text": [
            "nvcc: NVIDIA (R) Cuda compiler driver\n",
            "Copyright (c) 2005-2019 NVIDIA Corporation\n",
            "Built on Fri_Feb__8_19:08:17_PST_2019\n",
            "Cuda compilation tools, release 10.1, V10.1.105\n"
          ],
          "name": "stdout"
        }
      ]
    },
    {
      "metadata": {
        "id": "1Neyi2-7li5c",
        "colab_type": "text"
      },
      "cell_type": "markdown",
      "source": [
        "Upload extension to notebook to work with CUDA C directly from notebook"
      ]
    },
    {
      "metadata": {
        "id": "gkQ3ksTWlpyM",
        "colab_type": "code",
        "outputId": "a6c49b79-5903-457e-c286-a98383337f3c",
        "colab": {
          "base_uri": "https://localhost:8080/",
          "height": 159
        }
      },
      "cell_type": "code",
      "source": [
        "!pip install git+git://github.com/andreinechaev/nvcc4jupyter.git"
      ],
      "execution_count": 0,
      "outputs": [
        {
          "output_type": "stream",
          "text": [
            "Collecting git+git://github.com/andreinechaev/nvcc4jupyter.git\n",
            "  Cloning git://github.com/andreinechaev/nvcc4jupyter.git to /tmp/pip-req-build-5a74685e\n",
            "Requirement already satisfied (use --upgrade to upgrade): NVCCPlugin==0.0.2 from git+git://github.com/andreinechaev/nvcc4jupyter.git in /usr/local/lib/python3.6/dist-packages\n",
            "Building wheels for collected packages: NVCCPlugin\n",
            "  Building wheel for NVCCPlugin (setup.py) ... \u001b[?25ldone\n",
            "\u001b[?25h  Stored in directory: /tmp/pip-ephem-wheel-cache-o7ah2sn6/wheels/10/c2/05/ca241da37bff77d60d31a9174f988109c61ba989e4d4650516\n",
            "Successfully built NVCCPlugin\n"
          ],
          "name": "stdout"
        }
      ]
    },
    {
      "metadata": {
        "id": "7hgb-Mkwlq12",
        "colab_type": "text"
      },
      "cell_type": "markdown",
      "source": [
        "Load cuda extension to the notebook"
      ]
    },
    {
      "metadata": {
        "id": "Oa6pxLFilw89",
        "colab_type": "code",
        "outputId": "7d4e4757-b6dd-4dad-c114-6fc1e04bf1b5",
        "colab": {
          "base_uri": "https://localhost:8080/",
          "height": 52
        }
      },
      "cell_type": "code",
      "source": [
        "%load_ext nvcc_plugin"
      ],
      "execution_count": 0,
      "outputs": [
        {
          "output_type": "stream",
          "text": [
            "directory /content/src already exists\n",
            "Out bin /content/result.out\n"
          ],
          "name": "stdout"
        }
      ]
    },
    {
      "metadata": {
        "id": "VdkAoLecl51d",
        "colab_type": "text"
      },
      "cell_type": "markdown",
      "source": [
        "Check your GPU card\n",
        "\n",
        "For this we need explicitly say to the interpreter, that we want to use the extension by **adding %cu at the beginning of each cell with CUDA code.**\n",
        "\n"
      ]
    },
    {
      "metadata": {
        "id": "ILsqpyeioTyD",
        "colab_type": "code",
        "outputId": "37393d73-6e6c-408e-edc7-330192dcdc98",
        "colab": {
          "base_uri": "https://localhost:8080/",
          "height": 34
        }
      },
      "cell_type": "code",
      "source": [
        "%%cu\n",
        "\n",
        "#include <stdio.h>\n",
        "#include <iostream>\n",
        "#include <time.h>\n",
        "\n",
        "using namespace std;\n",
        "\n",
        "#define N  1024\n",
        "inline cudaError_t checkCudaErr(cudaError_t err, const char* msg) {\n",
        "  if (err != cudaSuccess) {\n",
        "    fprintf(stderr, \"CUDA Runtime error at %s: %s\\n\", msg, cudaGetErrorString(err));\n",
        "  }\n",
        "  return err;\n",
        "}\n",
        "__global__ void matrixMulGPU( int * a, int * b, int * c )\n",
        "{\n",
        "  /*\n",
        "   * Build out this kernel.\n",
        "   */\n",
        "    int row = threadIdx.y + blockIdx.y * blockDim.y;\n",
        "    int col = threadIdx.x + blockIdx.x * blockDim.x;\n",
        "    \n",
        "    int val = 0;\n",
        "    if (row < N && col < N) {\n",
        "      for (int i = 0; i < N; ++i) {\n",
        "         val += a[row * N + i] * b[i * N + col];\n",
        "       }\n",
        "    \n",
        "      c[row * N + col] = val;\n",
        "    }\n",
        "}\n",
        "/*\n",
        " * This CPU function already works, and will run to create a solution matrix\n",
        " * against which to verify your work building out the matrixMulGPU kernel.\n",
        " */\n",
        "void matrixMulCPU( int * a, int * b, int * c )\n",
        "{\n",
        "  int val = 0;\n",
        "for( int row = 0; row < N; ++row )\n",
        "    for( int col = 0; col < N; ++col )\n",
        "    {\n",
        "      val = 0;\n",
        "      for ( int k = 0; k < N; ++k )\n",
        "        val += a[row * N + k] * b[k * N + col];\n",
        "      c[row * N + col] = val;\n",
        "    }\n",
        "}\n",
        "int main()\n",
        "{\n",
        "  int *a, *b, *c_cpu, *c_gpu; // Allocate a solution matrix for both the CPU and the GPU operations\n",
        "int size = N * N * sizeof (int); // Number of bytes of an N x N matrix\n",
        "// Allocate memory\n",
        "  cudaMallocManaged (&a, size);\n",
        "  cudaMallocManaged (&b, size);\n",
        "  cudaMallocManaged (&c_cpu, size);\n",
        "  cudaMallocManaged (&c_gpu, size);\n",
        "// Initialize memory; create 2D matrices\n",
        "  for( int row = 0; row < N; ++row )\n",
        "    for( int col = 0; col < N; ++col )\n",
        "    {\n",
        "      a[row*N + col] = row;\n",
        "      b[row*N + col] = col+2;\n",
        "      c_cpu[row*N + col] = 0;\n",
        "      c_gpu[row*N + col] = 0;\n",
        "    }\n",
        "/*\n",
        "   * Assign `threads_per_block` and `number_of_blocks` 2D values\n",
        "   * that can be used in matrixMulGPU above.\n",
        "   */\n",
        "dim3 threads_per_block(32, 32, 1);\n",
        "  dim3 number_of_blocks(N / threads_per_block.x + 1, N / threads_per_block.y + 1, 1);\n",
        "    clock_t gpu_start = clock();\n",
        "matrixMulGPU <<< number_of_blocks, threads_per_block >>> ( a, b, c_gpu );\n",
        "    clock_t gpu_end = clock();\n",
        "checkCudaErr(cudaDeviceSynchronize(), \"Syncronization\");\n",
        "checkCudaErr(cudaGetLastError(), \"GPU\");\n",
        "// Call the CPU version to check our work\n",
        "    clock_t cpu_start = clock();\n",
        "  matrixMulCPU( a, b, c_cpu );\n",
        "    clock_t cpu_end = clock();\n",
        "// Compare the two answers to make sure they are equal\n",
        "  bool error = false;\n",
        "  for( int row = 0; row < N && !error; ++row )\n",
        "    for( int col = 0; col < N && !error; ++col )\n",
        "      if (c_cpu[row * N + col] != c_gpu[row * N + col])\n",
        "      {\n",
        "        printf(\"FOUND ERROR at c[%d][%d]\\n\", row, col);\n",
        "        error = true;\n",
        "        break;\n",
        "      }\n",
        "if (!error)\n",
        "    cout << \"Success! \";\n",
        "  cout << cpu_end - cpu_start << \" \" << gpu_end - gpu_start;\n",
        "// Free all our allocated memory\n",
        "  cudaFree(a); cudaFree(b);\n",
        "  cudaFree( c_cpu ); cudaFree( c_gpu );\n",
        "}"
      ],
      "execution_count": 0,
      "outputs": [
        {
          "output_type": "stream",
          "text": [
            "\n"
          ],
          "name": "stdout"
        }
      ]
    },
    {
      "metadata": {
        "id": "bNp84ZYBp4FO",
        "colab_type": "code",
        "outputId": "8c9264a5-284c-4529-93d0-6d9e40f3698e",
        "colab": {
          "base_uri": "https://localhost:8080/",
          "height": 104
        }
      },
      "cell_type": "code",
      "source": [
        "!lsb_release -a"
      ],
      "execution_count": 0,
      "outputs": [
        {
          "output_type": "stream",
          "text": [
            "No LSB modules are available.\n",
            "Distributor ID:\tUbuntu\n",
            "Description:\tUbuntu 18.04.2 LTS\n",
            "Release:\t18.04\n",
            "Codename:\tbionic\n"
          ],
          "name": "stdout"
        }
      ]
    },
    {
      "metadata": {
        "id": "3RXT_W1ToTSD",
        "colab_type": "code",
        "outputId": "8a2553e2-0b07-4fcb-d23c-f901f6c5538f",
        "colab": {
          "base_uri": "https://localhost:8080/",
          "height": 34
        }
      },
      "cell_type": "code",
      "source": [
        "!ls /usr/local/cuda/samples/1_Utilities/deviceQuery/"
      ],
      "execution_count": 0,
      "outputs": [
        {
          "output_type": "stream",
          "text": [
            "deviceQuery.cpp  Makefile  NsightEclipse.xml  readme.txt\n"
          ],
          "name": "stdout"
        }
      ]
    },
    {
      "metadata": {
        "id": "cgmvM-38sS5W",
        "colab_type": "text"
      },
      "cell_type": "markdown",
      "source": [
        "Make sample from NVIDI sample directory"
      ]
    },
    {
      "metadata": {
        "id": "689gXnyarnth",
        "colab_type": "code",
        "outputId": "f76a9569-0d94-4201-e642-abbd5efe8c19",
        "colab": {
          "base_uri": "https://localhost:8080/",
          "height": 141
        }
      },
      "cell_type": "code",
      "source": [
        "!cd /usr/local/cuda/samples/1_Utilities/deviceQuery;make clean; make\n"
      ],
      "execution_count": 0,
      "outputs": [
        {
          "output_type": "stream",
          "text": [
            "rm -f deviceQuery deviceQuery.o\n",
            "rm -rf ../../bin/x86_64/linux/release/deviceQuery\n",
            "/usr/local/cuda-10.1/bin/nvcc -ccbin g++ -I../../common/inc  -m64    -gencode arch=compute_30,code=sm_30 -gencode arch=compute_35,code=sm_35 -gencode arch=compute_37,code=sm_37 -gencode arch=compute_50,code=sm_50 -gencode arch=compute_52,code=sm_52 -gencode arch=compute_60,code=sm_60 -gencode arch=compute_61,code=sm_61 -gencode arch=compute_70,code=sm_70 -gencode arch=compute_75,code=sm_75 -gencode arch=compute_75,code=compute_75 -o deviceQuery.o -c deviceQuery.cpp\n",
            "/usr/local/cuda-10.1/bin/nvcc -ccbin g++   -m64      -gencode arch=compute_30,code=sm_30 -gencode arch=compute_35,code=sm_35 -gencode arch=compute_37,code=sm_37 -gencode arch=compute_50,code=sm_50 -gencode arch=compute_52,code=sm_52 -gencode arch=compute_60,code=sm_60 -gencode arch=compute_61,code=sm_61 -gencode arch=compute_70,code=sm_70 -gencode arch=compute_75,code=sm_75 -gencode arch=compute_75,code=compute_75 -o deviceQuery deviceQuery.o \n",
            "mkdir -p ../../bin/x86_64/linux/release\n",
            "cp deviceQuery ../../bin/x86_64/linux/release\n"
          ],
          "name": "stdout"
        }
      ]
    },
    {
      "metadata": {
        "id": "MeFRMqJWsV_B",
        "colab_type": "text"
      },
      "cell_type": "markdown",
      "source": [
        "Run sample"
      ]
    },
    {
      "metadata": {
        "id": "nB_dBQvSsX_8",
        "colab_type": "code",
        "outputId": "a68632e4-2cdf-4781-d8c4-8fd35766ecfc",
        "colab": {
          "base_uri": "https://localhost:8080/",
          "height": 139
        }
      },
      "cell_type": "code",
      "source": [
        "! /usr/local/cuda/samples/1_Utilities/deviceQuery/deviceQuery"
      ],
      "execution_count": 0,
      "outputs": [
        {
          "output_type": "stream",
          "text": [
            "/usr/local/cuda/samples/1_Utilities/deviceQuery/deviceQuery Starting...\n",
            "\n",
            " CUDA Device Query (Runtime API) version (CUDART static linking)\n",
            "\n",
            "cudaGetDeviceCount returned 35\n",
            "-> CUDA driver version is insufficient for CUDA runtime version\n",
            "Result = FAIL\n"
          ],
          "name": "stdout"
        }
      ]
    },
    {
      "metadata": {
        "id": "1-JWGT6PpLCZ",
        "colab_type": "text"
      },
      "cell_type": "markdown",
      "source": [
        "**Why it happens?** https://docs.nvidia.com/deploy/cuda-compatibility/index.html"
      ]
    },
    {
      "metadata": {
        "id": "XOyyDeiysyXr",
        "colab_type": "code",
        "outputId": "d86af8d0-f95e-460d-980b-c6e47689c45c",
        "colab": {
          "base_uri": "https://localhost:8080/",
          "height": 312
        }
      },
      "cell_type": "code",
      "source": [
        "!nvidia-smi"
      ],
      "execution_count": 0,
      "outputs": [
        {
          "output_type": "stream",
          "text": [
            "Sat Apr 20 07:26:38 2019       \n",
            "+-----------------------------------------------------------------------------+\n",
            "| NVIDIA-SMI 418.56       Driver Version: 410.79       CUDA Version: 10.0     |\n",
            "|-------------------------------+----------------------+----------------------+\n",
            "| GPU  Name        Persistence-M| Bus-Id        Disp.A | Volatile Uncorr. ECC |\n",
            "| Fan  Temp  Perf  Pwr:Usage/Cap|         Memory-Usage | GPU-Util  Compute M. |\n",
            "|===============================+======================+======================|\n",
            "|   0  Tesla T4            Off  | 00000000:00:04.0 Off |                    0 |\n",
            "| N/A   47C    P8    16W /  70W |      0MiB / 15079MiB |      0%      Default |\n",
            "+-------------------------------+----------------------+----------------------+\n",
            "                                                                               \n",
            "+-----------------------------------------------------------------------------+\n",
            "| Processes:                                                       GPU Memory |\n",
            "|  GPU       PID   Type   Process name                             Usage      |\n",
            "|=============================================================================|\n",
            "|  No running processes found                                                 |\n",
            "+-----------------------------------------------------------------------------+\n"
          ],
          "name": "stdout"
        }
      ]
    }
  ]
}